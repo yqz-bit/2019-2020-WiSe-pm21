{
 "cells": [
  {
   "cell_type": "markdown",
   "metadata": {},
   "source": [
    "This example modified from [a blog post by João Ventura](http://joaoventura.net/blog/2016/sierpinski-triangle/)."
   ]
  },
  {
   "cell_type": "code",
   "execution_count": null,
   "metadata": {},
   "outputs": [],
   "source": [
    "import random\n",
    "import matplotlib.pyplot as plt"
   ]
  },
  {
   "cell_type": "code",
   "execution_count": null,
   "metadata": {},
   "outputs": [],
   "source": [
    "def plot(points):\n",
    "    \"\"\"\n",
    "    Plots the points using matplotlib.\n",
    "    Points is a list of (x, y) pairs.\n",
    "    \"\"\"\n",
    "\n",
    "    xx = [x for (x, y) in points]\n",
    "    yy = [y for (x, y) in points]\n",
    "\n",
    "    plt.plot(xx, yy, 'g.')"
   ]
  },
  {
   "cell_type": "code",
   "execution_count": null,
   "metadata": {},
   "outputs": [],
   "source": [
    "def sierpinski(n):\n",
    "    \"\"\"\n",
    "    Generates positions for the Chaos Game Sierpinski\n",
    "    triangle with n iterations in a square of size 1x1.\n",
    "    \"\"\"\n",
    "\n",
    "    vertices = [(0.0, 0.0), (0.5, 1.0), (1.0, 0.0)]\n",
    "    points = []\n",
    "\n",
    "    # initial vertex\n",
    "    x, y = random.choice(vertices)\n",
    "\n",
    "    for i in range(n):\n",
    "        # select new vertex\n",
    "        vx, vy = random.choice(vertices)\n",
    "\n",
    "        # get middle point\n",
    "        x = (vx + x) / 2.0\n",
    "        y = (vy + y) / 2.0\n",
    "\n",
    "        points.append((x, y))\n",
    "\n",
    "    plot(points)"
   ]
  },
  {
   "cell_type": "code",
   "execution_count": null,
   "metadata": {},
   "outputs": [],
   "source": [
    "sierpinski(n=100)"
   ]
  },
  {
   "cell_type": "code",
   "execution_count": null,
   "metadata": {},
   "outputs": [],
   "source": [
    "sierpinski(n=1000)"
   ]
  },
  {
   "cell_type": "code",
   "execution_count": null,
   "metadata": {},
   "outputs": [],
   "source": [
    "sierpinski(n=10000)"
   ]
  },
  {
   "cell_type": "code",
   "execution_count": null,
   "metadata": {},
   "outputs": [],
   "source": []
  }
 ],
 "metadata": {
  "kernelspec": {
   "display_name": "Python 3",
   "language": "python",
   "name": "python3"
  },
  "language_info": {
   "codemirror_mode": {
    "name": "ipython",
    "version": 3
   },
   "file_extension": ".py",
   "mimetype": "text/x-python",
   "name": "python",
   "nbconvert_exporter": "python",
   "pygments_lexer": "ipython3",
   "version": "3.7.3"
  }
 },
 "nbformat": 4,
 "nbformat_minor": 2
}
