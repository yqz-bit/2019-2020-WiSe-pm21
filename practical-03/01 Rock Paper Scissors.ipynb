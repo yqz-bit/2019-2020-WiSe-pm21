{
 "cells": [
  {
   "cell_type": "markdown",
   "metadata": {},
   "source": [
    "# Enter your solution to the homework:\n",
    "\n",
    "## Program the game \"[Rock, paper, scissors\"](https://en.wikipedia.org/wiki/Rock%E2%80%93paper%E2%80%93scissors).\n",
    "\n",
    "<table><tr><td>\n",
    "    <img src=\"../lectures/Rock-paper-scissors.svg.png\" width=\"200\"/></td><td>Image By <a href=\"//commons.wikimedia.org/w/index.php?title=User:Enzoklop&amp;action=edit&amp;redlink=1\" class=\"new\" title=\"User:Enzoklop (page does not exist)\">Enzoklop</a> - <span class=\"int-own-work\" lang=\"en\">Own work</span>, <a href=\"https://creativecommons.org/licenses/by-sa/3.0\" title=\"Creative Commons Attribution-Share Alike 3.0\">CC BY-SA 3.0</a>, <a href=\"https://commons.wikimedia.org/w/index.php?curid=27958688\">Link</a></td></tr></table>\n",
    "\n",
    "Program a new function called `run_game`.\n",
    "  - Use the function `random.choice` to generate the computer's choice.\n",
    "  - Get the user's choice with the `get_choice` function above.\n",
    "  - Based on the computer's choice and the user's choice, compute if the user has a win, a loss, or a draw.\n",
    "  - Return the result (win, loss, or draw)."
   ]
  },
  {
   "cell_type": "code",
   "execution_count": null,
   "metadata": {},
   "outputs": [],
   "source": []
  },
  {
   "cell_type": "markdown",
   "metadata": {},
   "source": [
    "## Playing more\n",
    "\n",
    "Now create 3 variables: `num_lose`, `num_win` and `num_draw` and assign them to `0`. \n",
    "\n",
    "Create an infinite loop that:\n",
    "1. calls your `run_game()` function\n",
    "2. adds `1` to the correct variable. \n",
    "3. After every game, print the total number of wins, draws, and losses."
   ]
  },
  {
   "cell_type": "code",
   "execution_count": null,
   "metadata": {},
   "outputs": [],
   "source": []
  }
 ],
 "metadata": {
  "kernelspec": {
   "display_name": "Python 3",
   "language": "python",
   "name": "python3"
  },
  "language_info": {
   "codemirror_mode": {
    "name": "ipython",
    "version": 3
   },
   "file_extension": ".py",
   "mimetype": "text/x-python",
   "name": "python",
   "nbconvert_exporter": "python",
   "pygments_lexer": "ipython3",
   "version": "3.7.3"
  }
 },
 "nbformat": 4,
 "nbformat_minor": 2
}
