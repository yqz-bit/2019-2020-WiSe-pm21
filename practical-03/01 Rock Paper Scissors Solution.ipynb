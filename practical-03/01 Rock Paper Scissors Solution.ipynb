{
 "cells": [
  {
   "cell_type": "markdown",
   "metadata": {},
   "source": [
    "# Enter your solution to the homework:\n",
    "\n",
    "## Program the game \"[Rock, paper, scissors\"](https://en.wikipedia.org/wiki/Rock%E2%80%93paper%E2%80%93scissors).\n",
    "\n",
    "<table><tr><td>\n",
    "    <img src=\"../lectures/Rock-paper-scissors.svg.png\" width=\"200\"/></td><td>Image By <a href=\"//commons.wikimedia.org/w/index.php?title=User:Enzoklop&amp;action=edit&amp;redlink=1\" class=\"new\" title=\"User:Enzoklop (page does not exist)\">Enzoklop</a> - <span class=\"int-own-work\" lang=\"en\">Own work</span>, <a href=\"https://creativecommons.org/licenses/by-sa/3.0\" title=\"Creative Commons Attribution-Share Alike 3.0\">CC BY-SA 3.0</a>, <a href=\"https://commons.wikimedia.org/w/index.php?curid=27958688\">Link</a></td></tr></table>\n",
    "\n",
    "Program a new function called `run_game`.\n",
    "  - Use the function `random.choice` to generate the computer's choice.\n",
    "  - Get the user's choice with the `get_choice` function above.\n",
    "  - Based on the computer's choice and the user's choice, compute if the user has a win, a loss, or a draw.\n",
    "  - Return the result (win, loss, or draw)."
   ]
  },
  {
   "cell_type": "code",
   "execution_count": 1,
   "metadata": {},
   "outputs": [],
   "source": [
    "import random\n",
    "\n",
    "options = [\"rock\", \"paper\", \"scissors\"]\n",
    "\n",
    "def get_choice(n, options=None):\n",
    "    \"\"\"get input from user to select a number between 0 and n\"\"\"\n",
    "    if options == None:\n",
    "        display_options = []\n",
    "        for i in range(n):\n",
    "            display_options.append(\"Option {}\".format(i))\n",
    "    else:\n",
    "        display_options = options\n",
    "    \n",
    "    while True:\n",
    "        print(\"please enter a number between 0 and {}\".format(n))\n",
    "        for i in range(n):\n",
    "            print(\"  {} - {}\".format(i,display_options[i]))\n",
    "        print(\"please enter your value here\")\n",
    "        value_str = input()\n",
    "        try:\n",
    "            value_int = int(value_str)\n",
    "        except:\n",
    "            print(\"I could not convert {} to an integer\".format(value_str))\n",
    "            continue\n",
    "        if value_int < 0:\n",
    "            print(\"input must be 0 or more\")\n",
    "            continue\n",
    "        if value_int >= n:\n",
    "            print(\"input must be less than n\")\n",
    "            continue\n",
    "        return value_int\n",
    "\n",
    "def run_game():\n",
    "    # do computer's guess\n",
    "    computer_guess = random.choice(options)\n",
    "    \n",
    "    # get user guess\n",
    "    user_options = options.copy()\n",
    "    user_options.append(\"quit\")\n",
    "    value = get_choice(len(user_options), options=user_options)\n",
    "    user_guess = user_options[value]\n",
    "    if user_guess == \"quit\":\n",
    "        return \"quit\"\n",
    "    \n",
    "    print(\"computer guess was: %s\"%computer_guess)\n",
    "    \n",
    "    outcome = None\n",
    "    \n",
    "    if user_guess == \"rock\":\n",
    "        if computer_guess == \"rock\":\n",
    "            outcome = \"draw\"\n",
    "        elif computer_guess == \"paper\":\n",
    "            outcome = \"lose\"\n",
    "        else:\n",
    "            assert(computer_guess==\"scissors\")\n",
    "            outcome = \"win\"\n",
    "    elif user_guess == \"paper\":\n",
    "        if computer_guess == \"rock\":\n",
    "            outcome = \"win\"\n",
    "        elif computer_guess == \"paper\":\n",
    "            outcome = \"draw\"\n",
    "        else:\n",
    "            assert(computer_guess==\"scissors\")\n",
    "            outcome = \"lose\"\n",
    "    else:\n",
    "        assert(user_guess == \"scissors\")\n",
    "        if computer_guess == \"rock\":\n",
    "            outcome = \"lose\"\n",
    "        elif computer_guess == \"paper\":\n",
    "            outcome = \"win\"\n",
    "        else:\n",
    "            assert(computer_guess==\"scissors\")\n",
    "            outcome = \"draw\"\n",
    "    return outcome"
   ]
  },
  {
   "cell_type": "code",
   "execution_count": 2,
   "metadata": {},
   "outputs": [
    {
     "name": "stdout",
     "output_type": "stream",
     "text": [
      "please enter a number between 0 and 4\n",
      "  0 - rock\n",
      "  1 - paper\n",
      "  2 - scissors\n",
      "  3 - quit\n",
      "please enter your value here\n",
      "2\n",
      "computer guess was: paper\n"
     ]
    },
    {
     "data": {
      "text/plain": [
       "'win'"
      ]
     },
     "execution_count": 2,
     "metadata": {},
     "output_type": "execute_result"
    }
   ],
   "source": [
    "run_game()"
   ]
  },
  {
   "cell_type": "markdown",
   "metadata": {},
   "source": [
    "## Playing more\n",
    "\n",
    "Now create 3 variables: `num_lose`, `num_win` and `num_draw` and assign them to `0`. \n",
    "\n",
    "Create an infinite loop that:\n",
    "1. calls your `run_game()` function\n",
    "2. adds `1` to the correct variable. \n",
    "3. After every game, print the total number of wins, draws, and losses."
   ]
  },
  {
   "cell_type": "code",
   "execution_count": 3,
   "metadata": {},
   "outputs": [
    {
     "name": "stdout",
     "output_type": "stream",
     "text": [
      "please enter a number between 0 and 4\n",
      "  0 - rock\n",
      "  1 - paper\n",
      "  2 - scissors\n",
      "  3 - quit\n",
      "please enter your value here\n",
      "1\n",
      "computer guess was: paper\n",
      "you statistics so far: 0 wins, 1 draws, 0 losses.\n",
      "please enter a number between 0 and 4\n",
      "  0 - rock\n",
      "  1 - paper\n",
      "  2 - scissors\n",
      "  3 - quit\n",
      "please enter your value here\n",
      "2\n",
      "computer guess was: rock\n",
      "you statistics so far: 0 wins, 1 draws, 1 losses.\n",
      "please enter a number between 0 and 4\n",
      "  0 - rock\n",
      "  1 - paper\n",
      "  2 - scissors\n",
      "  3 - quit\n",
      "please enter your value here\n",
      "2\n",
      "computer guess was: paper\n",
      "you statistics so far: 1 wins, 1 draws, 1 losses.\n",
      "please enter a number between 0 and 4\n",
      "  0 - rock\n",
      "  1 - paper\n",
      "  2 - scissors\n",
      "  3 - quit\n",
      "please enter your value here\n",
      "1\n",
      "computer guess was: scissors\n",
      "you statistics so far: 1 wins, 1 draws, 2 losses.\n",
      "please enter a number between 0 and 4\n",
      "  0 - rock\n",
      "  1 - paper\n",
      "  2 - scissors\n",
      "  3 - quit\n",
      "please enter your value here\n",
      "3\n"
     ]
    }
   ],
   "source": [
    "num_lose = 0\n",
    "num_win = 0\n",
    "num_draw = 0\n",
    "\n",
    "while True:\n",
    "    outcome = run_game()\n",
    "    if outcome == \"quit\":\n",
    "        break\n",
    "    elif outcome == \"win\":\n",
    "        num_win = num_win + 1\n",
    "    elif outcome == \"draw\":\n",
    "        num_draw = num_draw + 1\n",
    "    else:\n",
    "        assert(outcome==\"lose\")\n",
    "        num_lose = num_lose + 1\n",
    "    print(\"you statistics so far: %d wins, %d draws, %d losses.\"%(num_win, num_draw, num_lose))"
   ]
  },
  {
   "cell_type": "code",
   "execution_count": null,
   "metadata": {},
   "outputs": [],
   "source": []
  }
 ],
 "metadata": {
  "kernelspec": {
   "display_name": "Python 3",
   "language": "python",
   "name": "python3"
  },
  "language_info": {
   "codemirror_mode": {
    "name": "ipython",
    "version": 3
   },
   "file_extension": ".py",
   "mimetype": "text/x-python",
   "name": "python",
   "nbconvert_exporter": "python",
   "pygments_lexer": "ipython3",
   "version": "3.7.3"
  }
 },
 "nbformat": 4,
 "nbformat_minor": 2
}
