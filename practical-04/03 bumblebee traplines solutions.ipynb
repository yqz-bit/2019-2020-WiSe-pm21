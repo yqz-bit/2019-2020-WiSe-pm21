{
 "cells": [
  {
   "cell_type": "markdown",
   "metadata": {},
   "source": [
    "We are going to do some optimization inspired by bumblebee route finding. Bumblebees are known to repeatedly visit flowers (or experimenter-positioned sugar-water feeders). Their routes improve over successive flights such that they visit more flowers with less flying.\n",
    "\n",
    "To complete this problem set, remember a few things:\n",
    "\n",
    "- the `np.argmin` function\n",
    "- the [Pythagorean theorem](https://en.wikipedia.org/wiki/Pythagorean_theorem) to measure [Euclidean distance](https://en.wikipedia.org/wiki/Euclidean_distance)"
   ]
  },
  {
   "cell_type": "code",
   "execution_count": 4,
   "metadata": {},
   "outputs": [],
   "source": [
    "import numpy as np\n",
    "import matplotlib.pyplot as plt"
   ]
  },
  {
   "cell_type": "code",
   "execution_count": 5,
   "metadata": {},
   "outputs": [],
   "source": [
    "# The locations of the nest and several feeders are given in meters in [X,Y] pairs.\n",
    "locations = {'nest':[0, 0], 'A': [32.3, 21.2], 'B': [29.1, 19.1],\n",
    "             'C': [0.2, 29.1], 'D': [-2.2, 20.1], 'E':[32.2, 32.1],\n",
    "             'F':[33.8, 31.8],\n",
    "            }"
   ]
  },
  {
   "cell_type": "code",
   "execution_count": 6,
   "metadata": {},
   "outputs": [
    {
     "data": {
      "text/plain": [
       "(-4.0, 35.599999999999994, -1.6050000000000002, 33.705)"
      ]
     },
     "execution_count": 6,
     "metadata": {},
     "output_type": "execute_result"
    },
    {
     "data": {
      "image/png": "[encoded data removed]",
      "text/plain": [
       "<Figure size 432x288 with 1 Axes>"
      ]
     },
     "metadata": {
      "needs_background": "light"
     },
     "output_type": "display_data"
    }
   ],
   "source": [
    "fig, ax = plt.subplots(nrows=1, ncols=1)\n",
    "for key in locations:\n",
    "    ax.plot( [locations[key][0]], [locations[key][1]], 'o' )\n",
    "    ax.text( locations[key][0], locations[key][1], key )\n",
    "ax.axis('equal')"
   ]
  },
  {
   "cell_type": "markdown",
   "metadata": {},
   "source": [
    "## Q1 Define a function to compute distance between two locations.\n",
    "\n",
    "Define a distance function that takes two (x,y) coordinates and returns the Euclidean distance between these coordinates. Call this function `my_distance`. You will need to use the Pythagorean theorem."
   ]
  },
  {
   "cell_type": "code",
   "execution_count": 7,
   "metadata": {},
   "outputs": [],
   "source": [
    "# Enter code here\n",
    "def my_distance(a,b):\n",
    "    a = np.array(a)\n",
    "    b = np.array(b)\n",
    "    return np.sqrt(np.sum((a-b)**2))"
   ]
  },
  {
   "cell_type": "code",
   "execution_count": 10,
   "metadata": {},
   "outputs": [],
   "source": [
    "# Do not change this, this is a test of the above code\n",
    "assert(my_distance([0.0, 0.0], [0.0, 5.0])==5)\n",
    "assert(my_distance((0,0), (5,0))==5)\n",
    "assert(my_distance((0,3), (4,0))==5)\n",
    "assert(my_distance((1,3), (5,0))==5)\n",
    "assert(my_distance((1,4), (5,1))==5)\n",
    "assert(my_distance((1,2), (5,-1))==5)"
   ]
  },
  {
   "cell_type": "markdown",
   "metadata": {},
   "source": [
    "Now we will compute the distances between every pair of locations."
   ]
  },
  {
   "cell_type": "code",
   "execution_count": 6,
   "metadata": {},
   "outputs": [],
   "source": [
    "keys = list(locations.keys())\n",
    "\n",
    "distances_dict = {}\n",
    "for i in range(len(keys)):\n",
    "    for j in range(len(keys)):\n",
    "        key_i = keys[i]\n",
    "        key_j = keys[j]\n",
    "        this_distance = my_distance(locations[key_i], locations[key_j])\n",
    "        if key_i not in distances_dict:\n",
    "            distances_dict[key_i] = {}\n",
    "        distances_dict[key_i][key_j] = this_distance"
   ]
  },
  {
   "cell_type": "markdown",
   "metadata": {},
   "source": [
    "Note, the above dictionary-of-dictionaries is perhaps easy to understand and keeps the labels (e.g. `'nest'` and `'A'`) with the data, but it is more common to store distances in a \"distance matrix\". Here we create and plot the distance matrix."
   ]
  },
  {
   "cell_type": "code",
   "execution_count": 7,
   "metadata": {},
   "outputs": [
    {
     "data": {
      "image/png": "[encoded data removed]",
      "text/plain": [
       "<Figure size 432x288 with 2 Axes>"
      ]
     },
     "metadata": {
      "needs_background": "light"
     },
     "output_type": "display_data"
    }
   ],
   "source": [
    "distances_arr = np.zeros((len(keys), len(keys)))\n",
    "keys = list(locations.keys())\n",
    "for i in range(len(keys)):\n",
    "    for j in range(len(keys)):\n",
    "        key_i = keys[i]\n",
    "        key_j = keys[j]\n",
    "        distances_arr[i,j] = distances_dict[key_i][key_j]\n",
    "\n",
    "fig, ax = plt.subplots(nrows=1, ncols=1)\n",
    "cmap = ax.imshow(distances_arr,interpolation='nearest')\n",
    "cax = fig.colorbar(cmap)\n",
    "cax.set_label(\"distance (m)\")\n",
    "\n",
    "ax.set_xticks(range(len(keys)))\n",
    "ax.set_xticklabels(keys)\n",
    "ax.set_xlabel(\"location\")\n",
    "\n",
    "ax.set_yticks(range(len(keys)))\n",
    "ax.set_yticklabels(keys)\n",
    "ax.set_ylabel(\"location\");"
   ]
  },
  {
   "cell_type": "markdown",
   "metadata": {},
   "source": [
    "## Q2 What is the total distance from the nest to feeder A to feeder B? Put this in a variable `distance_nest_a_b`"
   ]
  },
  {
   "cell_type": "code",
   "execution_count": 8,
   "metadata": {},
   "outputs": [
    {
     "name": "stdout",
     "output_type": "stream",
     "text": [
      "42.4633960096955\n"
     ]
    }
   ],
   "source": [
    "# Enter code here\n",
    "distance_nest_a_b = distances_dict['nest']['A'] + distances_dict['A']['B']\n",
    "print(distance_nest_a_b)"
   ]
  },
  {
   "cell_type": "code",
   "execution_count": 9,
   "metadata": {},
   "outputs": [],
   "source": [
    "# Do not change this, this is a test of the above code\n",
    "assert(abs(distance_nest_a_b-42.4633960096955) < 1e-5)"
   ]
  },
  {
   "cell_type": "code",
   "execution_count": 10,
   "metadata": {},
   "outputs": [],
   "source": [
    "def all_possible_sequences(locs):\n",
    "    '''given an input series `locs`, return all possible ordered sequences\n",
    "    \n",
    "    >>> all_possible_sequences((1,2,3))\n",
    "    [(1, 2, 3), (1, 3, 2), (2, 1, 3), (2, 3, 1), (3, 1, 2), (3, 2, 1)]\n",
    "    '''\n",
    "    n = len(locs)\n",
    "    answers = []\n",
    "    if n== 1:\n",
    "        answers.append(tuple(locs))\n",
    "        return answers    \n",
    "    for i in range(n):\n",
    "        not_i = list(locs)\n",
    "        del not_i[i]\n",
    "        not_i_orderings = all_possible_sequences(not_i)\n",
    "        for not_i_ordering in not_i_orderings:\n",
    "            this_order = [locs[i]] + list(not_i_ordering)\n",
    "            answers.append(tuple(this_order))\n",
    "    return answers\n",
    "\n",
    "# The next lines check that the example in the docstring is correct.\n",
    "import doctest\n",
    "doctest.testmod();"
   ]
  },
  {
   "cell_type": "code",
   "execution_count": 11,
   "metadata": {},
   "outputs": [
    {
     "name": "stdout",
     "output_type": "stream",
     "text": [
      "['A', 'B', 'C', 'D', 'E', 'F']\n"
     ]
    }
   ],
   "source": [
    "feeders = list(locations.keys())\n",
    "feeders.remove('nest')\n",
    "print(feeders)"
   ]
  },
  {
   "cell_type": "code",
   "execution_count": 12,
   "metadata": {},
   "outputs": [],
   "source": [
    "orderings = all_possible_sequences(feeders)"
   ]
  },
  {
   "cell_type": "code",
   "execution_count": 13,
   "metadata": {},
   "outputs": [
    {
     "name": "stdout",
     "output_type": "stream",
     "text": [
      "720\n"
     ]
    }
   ],
   "source": [
    "print(len(orderings))"
   ]
  },
  {
   "cell_type": "markdown",
   "metadata": {},
   "source": [
    "Now, let's also include starting and stopping at the nest. A bumblebee that doesn't manage this is no good to the hive."
   ]
  },
  {
   "cell_type": "code",
   "execution_count": 14,
   "metadata": {},
   "outputs": [],
   "source": [
    "new_orderings = []\n",
    "for ordering in orderings:\n",
    "    new_orderings.append( tuple( ['nest'] + list(ordering) + ['nest'] ) )"
   ]
  },
  {
   "cell_type": "code",
   "execution_count": 15,
   "metadata": {},
   "outputs": [
    {
     "name": "stdout",
     "output_type": "stream",
     "text": [
      "('nest', 'A', 'B', 'C', 'D', 'E', 'F', 'nest')\n"
     ]
    }
   ],
   "source": [
    "print(new_orderings[0])"
   ]
  },
  {
   "cell_type": "markdown",
   "metadata": {},
   "source": [
    "We are going to compute the total (\"cumulative\") distance of all possible flights that leave the nest, visit all feeders, and return to the nest. First, we define a function which will compute this cumulative distance for a particular sequence."
   ]
  },
  {
   "cell_type": "code",
   "execution_count": 16,
   "metadata": {},
   "outputs": [],
   "source": [
    "def compute_cumulative_distance(seq, dists):\n",
    "    \"\"\"given an ordering in `seq` and distances in `dists`, compute the cumulative sequence distance\n",
    "    \n",
    "    >>> dist_dict = {'x':{'y':1.0,'z':0.5}, 'y':{'x':1.0,'z':1.1}, 'z':{'x':0.5, 'y': 1.1}}\n",
    "    >>> compute_cumulative_distance(['x','y','z'], dist_dict)\n",
    "    2.1\n",
    "    \"\"\"\n",
    "    accum = 0.0\n",
    "    for i in range(len(seq)-1):\n",
    "        start_loc = seq[i]\n",
    "        stop_loc = seq[i+1]\n",
    "        this_dist = dists[start_loc][stop_loc]\n",
    "        accum += this_dist\n",
    "    return accum\n",
    "\n",
    "# The next lines check that the example in the docstring is correct.\n",
    "import doctest\n",
    "doctest.testmod();"
   ]
  },
  {
   "cell_type": "markdown",
   "metadata": {},
   "source": [
    "Now, we are going to run our function for all possible sequences and store the results in `path_lengths`."
   ]
  },
  {
   "cell_type": "code",
   "execution_count": 17,
   "metadata": {},
   "outputs": [],
   "source": [
    "path_lengths = []\n",
    "for ordering in new_orderings:\n",
    "    path_lengths.append(compute_cumulative_distance(ordering, distances_dict))"
   ]
  },
  {
   "cell_type": "markdown",
   "metadata": {},
   "source": [
    "## Q3 What is the shortest distance possible for the bee to fly while still visiting all flowers after leaving the nest and then returning again at the end.\n",
    "\n",
    "What is the shortest path for the bee to visit all flowers? Hint: remember `np.argmin`.\n",
    "\n",
    "This is the famous [traveling salesman problem](https://en.wikipedia.org/wiki/Travelling_salesman_problem).\n",
    "\n",
    "Place the distance travelled in the shortest route in the variable `shortest_path`.\n",
    "Place this sequence in the variable `shortest_sequence`."
   ]
  },
  {
   "cell_type": "code",
   "execution_count": 18,
   "metadata": {},
   "outputs": [
    {
     "name": "stdout",
     "output_type": "stream",
     "text": [
      "112.64421398776797\n",
      "('nest', 'B', 'A', 'F', 'E', 'C', 'D', 'nest')\n"
     ]
    }
   ],
   "source": [
    "# Enter code here\n",
    "idx_of_shortest = np.argmin(path_lengths)\n",
    "shortest_path = path_lengths[idx_of_shortest]\n",
    "shortest_sequence = new_orderings[idx_of_shortest]\n",
    "print(shortest_path)\n",
    "print(shortest_sequence)"
   ]
  },
  {
   "cell_type": "code",
   "execution_count": 19,
   "metadata": {},
   "outputs": [],
   "source": [
    "# Do not change this, this is a test of the above code\n",
    "assert(abs(shortest_path-112.64421398776797)<1e-6)\n",
    "assert(shortest_sequence==('nest', 'B', 'A', 'F', 'E', 'C', 'D', 'nest'))"
   ]
  },
  {
   "cell_type": "markdown",
   "metadata": {},
   "source": [
    "## Q4 What is the average distance of all paths which left the nest and visited all feeders exactly once?\n",
    "\n",
    "Put this in a variable `average_path_length`."
   ]
  },
  {
   "cell_type": "code",
   "execution_count": 20,
   "metadata": {},
   "outputs": [
    {
     "name": "stdout",
     "output_type": "stream",
     "text": [
      "182.5098741313341\n"
     ]
    }
   ],
   "source": [
    "# Enter code here\n",
    "average_path_length = np.mean(path_lengths)\n",
    "print(average_path_length)"
   ]
  },
  {
   "cell_type": "code",
   "execution_count": 21,
   "metadata": {},
   "outputs": [],
   "source": [
    "# Do not change this, this is a test of the above code\n",
    "assert(abs(average_path_length-182.5098741313341)<1e-6)"
   ]
  },
  {
   "cell_type": "markdown",
   "metadata": {},
   "source": [
    "## Q5 (challenging) All the above again, slightly modified\n",
    "\n",
    "If the bumblebee could satisfy her hive's needs with only 4 feeder visits, what would be the route that she should follow to have the shortest nest-4 feeders-nest sequence (place this in the variable `shortest_sequence_4`)? How long would that path be (place this in the variable `shortest_path_4`)?"
   ]
  },
  {
   "cell_type": "code",
   "execution_count": 22,
   "metadata": {},
   "outputs": [
    {
     "name": "stdout",
     "output_type": "stream",
     "text": [
      "len(short_orderings) 360\n",
      "96.43637326052391\n",
      "('nest', 'B', 'A', 'F', 'E', 'nest')\n"
     ]
    }
   ],
   "source": [
    "# Enter code here\n",
    "short_orderings = {}\n",
    "for ordering in orderings:\n",
    "    short_orderings[ tuple( ['nest'] + list(ordering[:4]) + ['nest'] ) ] = None\n",
    "short_orderings = list(short_orderings.keys())\n",
    "print(\"len(short_orderings)\",len(short_orderings))\n",
    "\n",
    "path_lengths_4 = []\n",
    "for ordering in short_orderings:\n",
    "    path_lengths_4.append(compute_cumulative_distance(ordering, distances_dict))\n",
    "\n",
    "idx_of_shortest = np.argmin(path_lengths_4)\n",
    "shortest_path_4 = path_lengths_4[idx_of_shortest]\n",
    "shortest_sequence_4 = short_orderings[idx_of_shortest]\n",
    "print(shortest_path_4)\n",
    "print(shortest_sequence_4)"
   ]
  },
  {
   "cell_type": "code",
   "execution_count": 23,
   "metadata": {},
   "outputs": [],
   "source": [
    "# Do not change this, this is a test of the above code\n",
    "assert(abs(shortest_path_4-96.43637326052391)<1e-6)\n",
    "assert(shortest_sequence_4==('nest', 'B', 'A', 'F', 'E', 'nest'))"
   ]
  },
  {
   "cell_type": "code",
   "execution_count": 24,
   "metadata": {},
   "outputs": [
    {
     "data": {
      "text/plain": [
       "(-4.0, 35.599999999999994, -1.6050000000000002, 33.705)"
      ]
     },
     "execution_count": 24,
     "metadata": {},
     "output_type": "execute_result"
    },
    {
     "data": {
      "image/png": "[encoded data removed]",
      "text/plain": [
       "<Figure size 432x288 with 1 Axes>"
      ]
     },
     "metadata": {
      "needs_background": "light"
     },
     "output_type": "display_data"
    }
   ],
   "source": [
    "# Now, let's look at the result.\n",
    "fig, ax = plt.subplots(nrows=1, ncols=1)\n",
    "for key in locations:\n",
    "    ax.plot( [locations[key][0]], [locations[key][1]], 'o' )\n",
    "    ax.text( locations[key][0], locations[key][1], key )\n",
    "    \n",
    "xx = []\n",
    "yy = []\n",
    "for key in shortest_sequence_4:\n",
    "    loc = locations[key]\n",
    "    xx.append( loc[0] )\n",
    "    yy.append( loc[1] )\n",
    "\n",
    "ax.plot( xx, yy, 'k-')\n",
    "ax.axis('equal')"
   ]
  },
  {
   "cell_type": "code",
   "execution_count": null,
   "metadata": {},
   "outputs": [],
   "source": []
  }
 ],
 "metadata": {
  "kernelspec": {
   "display_name": "Python 3",
   "language": "python",
   "name": "python3"
  },
  "language_info": {
   "codemirror_mode": {
    "name": "ipython",
    "version": 3
   },
   "file_extension": ".py",
   "mimetype": "text/x-python",
   "name": "python",
   "nbconvert_exporter": "python",
   "pygments_lexer": "ipython3",
   "version": "3.7.3"
  }
 },
 "nbformat": 4,
 "nbformat_minor": 2
}
