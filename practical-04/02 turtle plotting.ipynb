{
 "cells": [
  {
   "cell_type": "code",
   "execution_count": null,
   "metadata": {},
   "outputs": [],
   "source": [
    "# You must run this cell, but you can ignore its contents.\n",
    "\n",
    "import hashlib\n",
    "\n",
    "def hash(ty):\n",
    "    \"\"\"Return a unique string for input\"\"\"\n",
    "    ty_str = str(ty).encode()\n",
    "    m = hashlib.sha256()\n",
    "    m.update(ty_str)\n",
    "    return m.hexdigest()[:10]"
   ]
  },
  {
   "cell_type": "code",
   "execution_count": null,
   "metadata": {},
   "outputs": [],
   "source": [
    "import numpy as np\n",
    "import matplotlib.pyplot as plt"
   ]
  },
  {
   "cell_type": "markdown",
   "metadata": {},
   "source": [
    "The matplotlib pyplot `plot()` function takes one or two sequences of coordinates. If only one sequence is given, this is plotted as the Y coordinate. If two sequences are given, the first sequence is the X coordinate and the second sequency is the Y coordinate."
   ]
  },
  {
   "cell_type": "code",
   "execution_count": null,
   "metadata": {},
   "outputs": [],
   "source": [
    "x = [1,2,3]\n",
    "y = [4,5,4]\n",
    "plt.plot(x,y,'o-')"
   ]
  },
  {
   "cell_type": "code",
   "execution_count": null,
   "metadata": {},
   "outputs": [],
   "source": [
    "y = [4,5,4]\n",
    "plt.plot(y,'o-')"
   ]
  },
  {
   "cell_type": "markdown",
   "metadata": {},
   "source": [
    "By default, matplotlib adjusts the axes so that all data points fit on the screen. However, this assumes that X and Y might be scaled differently. When plotting real positions, it is usually better to use `ax.axis('equal')` so that the data are uniformly scaled."
   ]
  },
  {
   "cell_type": "code",
   "execution_count": null,
   "metadata": {},
   "outputs": [],
   "source": [
    "theta = np.linspace(0, 2*np.pi, 100)\n",
    "x = np.cos(theta)\n",
    "y = 2*np.sin(theta)\n",
    "\n",
    "fig, axes = plt.subplots(nrows=2, ncols=1)\n",
    "ax = axes[0]\n",
    "ax.plot(x, y, 'o-')\n",
    "\n",
    "ax = axes[1]\n",
    "ax.plot(x, y, 'o-')\n",
    "ax.axis('equal');"
   ]
  },
  {
   "cell_type": "markdown",
   "metadata": {},
   "source": [
    "Given the plots above, is the shape defined by the X and Y points tall or wide? Put your answer (either `\"tall\"` or `\"wide\"`) as a string in the variable `tall_or_wide`."
   ]
  },
  {
   "cell_type": "code",
   "execution_count": null,
   "metadata": {},
   "outputs": [],
   "source": [
    "# Type your answer here and then run this and the following cell.\n"
   ]
  },
  {
   "cell_type": "code",
   "execution_count": null,
   "metadata": {},
   "outputs": [],
   "source": [
    "# If this runs without error, it means the answer in your previous cell was correct.\n",
    "assert(hash(tall_or_wide)=='241daf2e75')"
   ]
  },
  {
   "cell_type": "markdown",
   "metadata": {},
   "source": [
    "Now that we now how to draw plots with equal axis scaling, let's make some nice shapes. Here is a class `Turtle` which keeps a history of positions and can also turn and move forward, updating its position."
   ]
  },
  {
   "cell_type": "code",
   "execution_count": null,
   "metadata": {},
   "outputs": [],
   "source": [
    "class Turtle:\n",
    "    def __init__(self):\n",
    "        self.history = [(0.0,0.0)]\n",
    "        self.angle_radians = 0.0\n",
    "    def forward(self, distance):\n",
    "        change_x = distance*np.cos(self.angle_radians)\n",
    "        change_y = distance*np.sin(self.angle_radians)\n",
    "        prev_pos = self.history[-1]\n",
    "        cur_pos = (prev_pos[0] + change_x, prev_pos[1] + change_y)\n",
    "        self.history.append(cur_pos)\n",
    "    def turn(self, angle_degrees):\n",
    "        angle_radians = angle_degrees/180.0*np.pi\n",
    "        self.angle_radians += angle_radians"
   ]
  },
  {
   "cell_type": "markdown",
   "metadata": {},
   "source": [
    "Now we use the turtle to draw some a shape."
   ]
  },
  {
   "cell_type": "code",
   "execution_count": null,
   "metadata": {},
   "outputs": [],
   "source": [
    "turtle = Turtle()\n",
    "for i in range(12):\n",
    "    turtle.turn(150.)\n",
    "    turtle.forward(10.0)\n",
    "xy = np.array(turtle.history)\n",
    "\n",
    "fig, ax = plt.subplots(nrows=1, ncols=1)\n",
    "ax.plot(xy[:,0], xy[:,1], 'o-')\n",
    "ax.axis('equal');"
   ]
  },
  {
   "cell_type": "code",
   "execution_count": null,
   "metadata": {},
   "outputs": [],
   "source": [
    "turtle = Turtle()\n",
    "for i in range(12):\n",
    "    turtle.turn(115.)\n",
    "    turtle.forward(6.0)\n",
    "    turtle.turn(25.)\n",
    "    turtle.forward(2.0)\n",
    "    \n",
    "xy = np.array(turtle.history)\n",
    "\n",
    "fig, ax = plt.subplots(nrows=1, ncols=1)\n",
    "ax.plot(xy[:,0], xy[:,1], 'o-')\n",
    "ax.axis('equal');"
   ]
  },
  {
   "cell_type": "markdown",
   "metadata": {},
   "source": [
    "Matplotlib can save images to many different formats (e.g. the raster format PNG and the vector format SVG). The main saving function is `fig.savefig()`. Here we save our star to a PNG file."
   ]
  },
  {
   "cell_type": "code",
   "execution_count": null,
   "metadata": {},
   "outputs": [],
   "source": [
    "fig.savefig('star.png')"
   ]
  },
  {
   "cell_type": "markdown",
   "metadata": {},
   "source": [
    "Here we view the PNG image we saved within the Jupyter notebook. This is no longer a matplotlib plot, but actually just an image file.\n",
    "\n",
    "Because of caching in the browser, it might not update if you re-save the image. To view the most recent image, open the directory in Jupyter Notebook and click on the image file directly.\n",
    "\n",
    "![star image](star.png)"
   ]
  },
  {
   "cell_type": "markdown",
   "metadata": {},
   "source": [
    "This is nice, but aren't the numbers and black labels distracting from our nice picture? Let's get rid of those. Use [the matplotlib documentation](https://matplotlib.org/), [Stack Overflow](https://stackoverflow.com/), and asking for help to make a plot with no labels. It should look like this:\n",
    "\n",
    "![no-border](no-border.png)"
   ]
  },
  {
   "cell_type": "code",
   "execution_count": null,
   "metadata": {},
   "outputs": [],
   "source": [
    "# Your code here\n"
   ]
  },
  {
   "cell_type": "markdown",
   "metadata": {},
   "source": [
    "Now, use the `Turtle` class above and matplotlib to plot a few nice-looking pictures and save them as PNG files. Maybe you want to save these to remember learning Python? :)"
   ]
  },
  {
   "cell_type": "code",
   "execution_count": null,
   "metadata": {},
   "outputs": [],
   "source": [
    "# Your code here\n"
   ]
  },
  {
   "cell_type": "code",
   "execution_count": null,
   "metadata": {},
   "outputs": [],
   "source": [
    "# Your code here\n"
   ]
  },
  {
   "cell_type": "code",
   "execution_count": null,
   "metadata": {},
   "outputs": [],
   "source": [
    "# Your code here\n"
   ]
  }
 ],
 "metadata": {
  "kernelspec": {
   "display_name": "Python 3",
   "language": "python",
   "name": "python3"
  },
  "language_info": {
   "codemirror_mode": {
    "name": "ipython",
    "version": 3
   },
   "file_extension": ".py",
   "mimetype": "text/x-python",
   "name": "python",
   "nbconvert_exporter": "python",
   "pygments_lexer": "ipython3",
   "version": "3.7.3"
  }
 },
 "nbformat": 4,
 "nbformat_minor": 2
}
