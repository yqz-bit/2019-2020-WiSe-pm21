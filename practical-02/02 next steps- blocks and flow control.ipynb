{
 "cells": [
  {
   "cell_type": "code",
   "execution_count": null,
   "metadata": {},
   "outputs": [],
   "source": [
    "# You can ignore this cell.\n",
    "\n",
    "import hashlib\n",
    "\n",
    "def hash(ty):\n",
    "    \"\"\"Return a unique string for input\"\"\"\n",
    "    ty_str = str(ty).encode()\n",
    "    m = hashlib.sha256()\n",
    "    m.update(ty_str)\n",
    "    return m.hexdigest()[:10]"
   ]
  },
  {
   "cell_type": "markdown",
   "metadata": {},
   "source": [
    "## Blocks and flow control\n",
    "\n",
    "In the next steps in this class, we are going to cover blocks and flow control.\n",
    "\n",
    "A *block* is a series of python statements with the same indentation level.\n",
    "\n",
    "We have already seen blocks inside functions. They are what is *inside* the function."
   ]
  },
  {
   "cell_type": "code",
   "execution_count": null,
   "metadata": {},
   "outputs": [],
   "source": [
    "x = \"This is outside the function.\"\n",
    "\n",
    "def my_function(y):\n",
    "    a = \"This is a block inside the function.\"\n",
    "    b = \"This is still in the block inside the function.\"\n",
    "    c = \"This is still in the block inside the function.\"\n",
    "    return [y,a,b,c]\n",
    "\n",
    "z = \"This is outside the function\""
   ]
  },
  {
   "cell_type": "markdown",
   "metadata": {},
   "source": [
    "## if statements"
   ]
  },
  {
   "cell_type": "markdown",
   "metadata": {},
   "source": [
    "Now, we will use blocks to define an *if statement* in Python.\n",
    "\n",
    "An if statement looks like this:\n",
    "\n",
    "```\n",
    "if CONDITION:\n",
    "    line 1\n",
    "    line 2\n",
    "```\n",
    "\n",
    "The `CONDITION` above is always evaluated as a *boolean* (type `bool` in Python). A `bool` type has a value of either `True` or `False`. "
   ]
  },
  {
   "cell_type": "code",
   "execution_count": null,
   "metadata": {},
   "outputs": [],
   "source": [
    "x = 1\n",
    "\n",
    "if x > 0:\n",
    "    print(\"x is positive\")"
   ]
  },
  {
   "cell_type": "markdown",
   "metadata": {},
   "source": [
    "Within an if statement, is a *block* of code which is run if the condition is true. For example the following code will run three lines of code if the condition is true. This is because there are two lines of code with the same amount of indentation."
   ]
  },
  {
   "cell_type": "code",
   "execution_count": null,
   "metadata": {},
   "outputs": [],
   "source": [
    "x = []\n",
    "b = 323\n",
    "if b > 100:\n",
    "    print(\"b is large\")\n",
    "    x.append(\"large\")\n",
    "    print(\"finishing up inside the if statement\")\n",
    "print(\"finished with the if statement\")\n",
    "print(x)"
   ]
  },
  {
   "cell_type": "markdown",
   "metadata": {},
   "source": [
    "Each if statement can also have an else statement. Both the *if* part and the *else* part have blocks of code:"
   ]
  },
  {
   "cell_type": "code",
   "execution_count": null,
   "metadata": {},
   "outputs": [],
   "source": [
    "x = 1\n",
    "\n",
    "if x > 0:\n",
    "    print(\"x is positive\")\n",
    "else:\n",
    "    print(\"x is not positive\")"
   ]
  },
  {
   "cell_type": "markdown",
   "metadata": {},
   "source": [
    "## while loops\n",
    "\n",
    "While loops also evaluate a condition and run a block of code if it is true. The difference with if statements is that the do this repeatedly until the condition is no longer true "
   ]
  },
  {
   "cell_type": "code",
   "execution_count": null,
   "metadata": {},
   "outputs": [],
   "source": [
    "x = 0\n",
    "while x < 10:\n",
    "    print(x)\n",
    "    x = x + 1"
   ]
  },
  {
   "cell_type": "markdown",
   "metadata": {},
   "source": [
    "It is also possible to skip the rest of a block inside a while loop by using the `continue` keyword. Here we combine this with an if statement."
   ]
  },
  {
   "cell_type": "code",
   "execution_count": null,
   "metadata": {},
   "outputs": [],
   "source": [
    "x = 0\n",
    "while x < 10:\n",
    "    x = x + 1\n",
    "    if x == 4:\n",
    "        continue\n",
    "    print(x)\n"
   ]
  },
  {
   "cell_type": "markdown",
   "metadata": {},
   "source": [
    "The while loop can be completely stopped using the `break` keyword:"
   ]
  },
  {
   "cell_type": "code",
   "execution_count": null,
   "metadata": {},
   "outputs": [],
   "source": [
    "x = 0\n",
    "while x<100000000:\n",
    "    x = x + 1\n",
    "    if x > 10:\n",
    "        break\n",
    "    print(x)"
   ]
  },
  {
   "cell_type": "markdown",
   "metadata": {},
   "source": [
    "## Q1\n",
    "\n",
    "Using a while loop, create a list with all integers from 0 to 20. The name of your variable with the list should be `my_list`."
   ]
  },
  {
   "cell_type": "code",
   "execution_count": null,
   "metadata": {},
   "outputs": [],
   "source": [
    "# Type your answer here and then run this and the following cell.\n"
   ]
  },
  {
   "cell_type": "code",
   "execution_count": null,
   "metadata": {},
   "outputs": [],
   "source": [
    "# If this runs without error, it means the answer in your previous cell was correct.\n",
    "assert(hash(my_list)=='de0b7325c0')"
   ]
  },
  {
   "cell_type": "code",
   "execution_count": null,
   "metadata": {},
   "outputs": [],
   "source": []
  }
 ],
 "metadata": {
  "kernelspec": {
   "display_name": "Python 3",
   "language": "python",
   "name": "python3"
  },
  "language_info": {
   "codemirror_mode": {
    "name": "ipython",
    "version": 3
   },
   "file_extension": ".py",
   "mimetype": "text/x-python",
   "name": "python",
   "nbconvert_exporter": "python",
   "pygments_lexer": "ipython3",
   "version": "3.7.3"
  }
 },
 "nbformat": 4,
 "nbformat_minor": 2
}
